{
 "cells": [
  {
   "cell_type": "code",
   "execution_count": 80,
   "id": "8bc66bac",
   "metadata": {},
   "outputs": [],
   "source": [
    "import os\n",
    "import cv2\n",
    "import numpy as np\n",
    "import matplotlib.pyplot as plt\n",
    "import math"
   ]
  },
  {
   "cell_type": "code",
   "execution_count": 81,
   "id": "fe386bae",
   "metadata": {},
   "outputs": [],
   "source": [
    "def trans_to_gray(img):\n",
    "    img_new = np.empty((np.array(img).shape[0],np.array(img).shape[1],np.array(img).shape[2],1),np.uint8)\n",
    "\n",
    "    for i in range(0,np.array(img_new).shape[0]):\n",
    "        for x in range(0,np.array(img_new).shape[1]):\n",
    "            for y in range(0,np.array(img_new).shape[2]):\n",
    "                img_new[i][x][y][0] =  img[i][x][y][0]/255\n",
    "                    \n",
    "    return img_new"
   ]
  },
  {
   "cell_type": "markdown",
   "id": "31e6c4b5",
   "metadata": {},
   "source": [
    "# Type_a"
   ]
  },
  {
   "cell_type": "code",
   "execution_count": 82,
   "id": "cc14efc7",
   "metadata": {},
   "outputs": [
    {
     "name": "stdout",
     "output_type": "stream",
     "text": [
      "(72, 45, 60, 3)\n",
      "(72, 45, 60, 3)\n"
     ]
    }
   ],
   "source": [
    "type_a_feature = []\n",
    "type_a_label = []\n",
    "\n",
    "for i in range(1,73):\n",
    "    # create feature array\n",
    "    pic_feature = 's'+ str(i) +'_init.png'\n",
    "    feature = cv2.imread('train/type_a/'+pic_feature)\n",
    "    feature = cv2.resize(feature,(60,45),interpolation = cv2.INTER_CUBIC)\n",
    "    type_a_feature.append(feature)\n",
    "    \n",
    "    # create label array\n",
    "    pic_label = 's'+ str(i) +'.png'\n",
    "    label = cv2.imread('train/type_a/'+pic_label)\n",
    "    label = cv2.resize(label,(60,45),interpolation = cv2.INTER_CUBIC)\n",
    "    type_a_label.append(label)\n",
    "\n",
    "\n",
    "fashape = np.array(type_a_feature).shape\n",
    "lashape = np.array(type_a_label).shape\n",
    "print(fashape)\n",
    "print(lashape)\n"
   ]
  },
  {
   "cell_type": "markdown",
   "id": "c1af619f",
   "metadata": {},
   "source": [
    "# Type_b"
   ]
  },
  {
   "cell_type": "code",
   "execution_count": 83,
   "id": "5e3dbf06",
   "metadata": {},
   "outputs": [
    {
     "name": "stdout",
     "output_type": "stream",
     "text": [
      "(59, 45, 60, 3)\n",
      "(59, 45, 60, 3)\n"
     ]
    }
   ],
   "source": [
    "type_b_feature = []\n",
    "type_b_label = []\n",
    "\n",
    "for i in range(1,60):\n",
    "    # create feature array\n",
    "    pic_feature = 's'+ str(i) +'_init.png'\n",
    "    feature = cv2.imread('train/type_b/'+pic_feature)\n",
    "    feature = cv2.resize(feature,(60,45),interpolation = cv2.INTER_CUBIC)\n",
    "    type_b_feature.append(feature)\n",
    "    \n",
    "    # create label array\n",
    "    pic_label = 's'+ str(i) +'.png'\n",
    "    label = cv2.imread('train/type_b/'+pic_label)\n",
    "    label = cv2.resize(label,(60,45),interpolation = cv2.INTER_CUBIC)\n",
    "    type_b_label.append(label)\n",
    "\n",
    "\n",
    "fashape = np.array(type_b_feature).shape\n",
    "lashape = np.array(type_b_label).shape\n",
    "print(fashape)\n",
    "print(lashape)"
   ]
  },
  {
   "cell_type": "markdown",
   "id": "559ce950",
   "metadata": {},
   "source": [
    "# Type_c"
   ]
  },
  {
   "cell_type": "code",
   "execution_count": 84,
   "id": "df07f9da",
   "metadata": {},
   "outputs": [
    {
     "name": "stdout",
     "output_type": "stream",
     "text": [
      "(77, 45, 60, 3)\n",
      "(77, 45, 60, 3)\n"
     ]
    }
   ],
   "source": [
    "type_c_feature = []\n",
    "type_c_label = []\n",
    "\n",
    "for i in range(1,78):\n",
    "    # create feature array\n",
    "    pic_feature = 's'+ str(i) +'_init.png'\n",
    "    feature = cv2.imread('train/type_c/'+pic_feature)\n",
    "    feature = cv2.resize(feature,(60,45),interpolation = cv2.INTER_CUBIC)\n",
    "    type_c_feature.append(feature)\n",
    "    \n",
    "    # create label array\n",
    "    pic_label = 's'+ str(i) +'.png'\n",
    "    label = cv2.imread('train/type_c/'+pic_label)\n",
    "    label = cv2.resize(label,(60,45),interpolation = cv2.INTER_CUBIC)\n",
    "    type_c_label.append(label)\n",
    "\n",
    "\n",
    "fashape = np.array(type_c_feature).shape\n",
    "lashape = np.array(type_c_label).shape\n",
    "print(fashape)\n",
    "print(lashape)"
   ]
  },
  {
   "cell_type": "markdown",
   "id": "7c8f8bb2",
   "metadata": {},
   "source": [
    "# Type_d"
   ]
  },
  {
   "cell_type": "code",
   "execution_count": 85,
   "id": "c64be167",
   "metadata": {},
   "outputs": [
    {
     "name": "stdout",
     "output_type": "stream",
     "text": [
      "(61, 45, 60, 3)\n",
      "(61, 45, 60, 3)\n"
     ]
    }
   ],
   "source": [
    "type_d_feature = []\n",
    "type_d_label = []\n",
    "\n",
    "for i in range(1,62):\n",
    "    # create feature array\n",
    "    pic_feature = 's'+ str(i) +'_init.png'\n",
    "    feature = cv2.imread('train/type_d/'+pic_feature)\n",
    "    feature = cv2.resize(feature,(60,45),interpolation = cv2.INTER_CUBIC)\n",
    "    type_d_feature.append(feature)\n",
    "    \n",
    "    # create label array\n",
    "    pic_label = 's'+ str(i) +'.png'\n",
    "    label = cv2.imread('train/type_d/'+pic_label)\n",
    "    label = cv2.resize(label,(60,45),interpolation = cv2.INTER_CUBIC)\n",
    "    type_d_label.append(label)\n",
    "\n",
    "\n",
    "fashape = np.array(type_d_feature).shape\n",
    "lashape = np.array(type_d_label).shape\n",
    "print(fashape)\n",
    "print(lashape)"
   ]
  },
  {
   "cell_type": "markdown",
   "id": "4dae4014",
   "metadata": {},
   "source": [
    "# Type_e"
   ]
  },
  {
   "cell_type": "code",
   "execution_count": 86,
   "id": "5d308737",
   "metadata": {},
   "outputs": [
    {
     "name": "stdout",
     "output_type": "stream",
     "text": [
      "(14, 45, 60, 3)\n",
      "(14, 45, 60, 3)\n"
     ]
    }
   ],
   "source": [
    "type_e_feature = []\n",
    "type_e_label = []\n",
    "\n",
    "for i in range(1,15):\n",
    "    # create feature array\n",
    "    pic_feature = 's'+ str(i) +'_init.png'\n",
    "    feature = cv2.imread('train/type_e/'+pic_feature)\n",
    "    feature = cv2.resize(feature,(60,45),interpolation = cv2.INTER_CUBIC)\n",
    "    type_e_feature.append(feature)\n",
    "    \n",
    "    # create label array\n",
    "    pic_label = 's'+ str(i) +'.png'\n",
    "    label = cv2.imread('train/type_e/'+pic_label)\n",
    "    label = cv2.resize(label,(60,45),interpolation = cv2.INTER_CUBIC)\n",
    "    type_e_label.append(label)\n",
    "\n",
    "\n",
    "fashape = np.array(type_e_feature).shape\n",
    "lashape = np.array(type_e_label).shape\n",
    "print(fashape)\n",
    "print(lashape)"
   ]
  },
  {
   "cell_type": "code",
   "execution_count": 87,
   "id": "57c6fd3f",
   "metadata": {},
   "outputs": [
    {
     "name": "stdout",
     "output_type": "stream",
     "text": [
      "(72, 45, 60, 1)\n",
      "(72, 45, 60, 1)\n",
      "(59, 45, 60, 1)\n",
      "(59, 45, 60, 1)\n",
      "(77, 45, 60, 1)\n",
      "(77, 45, 60, 1)\n",
      "(61, 45, 60, 1)\n",
      "(61, 45, 60, 1)\n",
      "(14, 45, 60, 1)\n",
      "(14, 45, 60, 1)\n"
     ]
    }
   ],
   "source": [
    "type_a_feature = trans_to_gray(type_a_feature)\n",
    "type_a_label = trans_to_gray(type_a_label)\n",
    "type_b_feature = trans_to_gray(type_b_feature)\n",
    "type_b_label = trans_to_gray(type_b_label)\n",
    "type_c_feature = trans_to_gray(type_c_feature)\n",
    "type_c_label = trans_to_gray(type_c_label)\n",
    "type_d_feature = trans_to_gray(type_d_feature)\n",
    "type_d_label = trans_to_gray(type_d_label)\n",
    "type_e_feature = trans_to_gray(type_e_feature)\n",
    "type_e_label = trans_to_gray(type_e_label)\n",
    "print(np.array(type_a_feature).shape)\n",
    "print(np.array(type_a_label).shape)\n",
    "print(np.array(type_b_feature).shape)\n",
    "print(np.array(type_b_label).shape)\n",
    "print(np.array(type_c_feature).shape)\n",
    "print(np.array(type_c_label).shape)\n",
    "print(np.array(type_d_feature).shape)\n",
    "print(np.array(type_d_label).shape)\n",
    "print(np.array(type_e_feature).shape)\n",
    "print(np.array(type_e_label).shape)"
   ]
  },
  {
   "cell_type": "code",
   "execution_count": 128,
   "id": "b6ee4aba",
   "metadata": {},
   "outputs": [
    {
     "data": {
      "text/plain": [
       "<matplotlib.image.AxesImage at 0x1cb8ae2f5c0>"
      ]
     },
     "execution_count": 128,
     "metadata": {},
     "output_type": "execute_result"
    },
    {
     "data": {
      "image/png": "[encoded data removed]",
      "text/plain": [
       "<Figure size 432x288 with 1 Axes>"
      ]
     },
     "metadata": {
      "needs_background": "light"
     },
     "output_type": "display_data"
    }
   ],
   "source": [
    "plt.imshow(type_a_label[0],cmap='gray')  "
   ]
  },
  {
   "cell_type": "code",
   "execution_count": 228,
   "id": "8de1ca67",
   "metadata": {},
   "outputs": [],
   "source": [
    "def trans_to_move(feature,label):\n",
    "    all_move_img = []\n",
    "\n",
    "    for all_i in range(np.array(feature).shape[0]):\n",
    "        cut_feature = np.empty((12,45,5,1),np.uint8)\n",
    "        cut_label = np.empty((12,45,5,1),np.uint8)\n",
    "        new_move_img = np.empty((12,45,60,1),np.uint8)\n",
    "\n",
    "        for i in range(np.array(cut_feature).shape[0]):\n",
    "            for x in range(np.array(cut_feature).shape[1]):\n",
    "                for y in range(np.array(cut_feature).shape[2]):\n",
    "                    cut_feature[i][x][y][0] = feature[all_i][x][y+5*i][0]\n",
    "\n",
    "        for i in range(np.array(cut_label).shape[0]):\n",
    "            for x in range(np.array(cut_label).shape[1]):\n",
    "                for y in range(np.array(cut_label).shape[2]):\n",
    "                    cut_label[i][x][y][0] = label[all_i][x][y+5*i][0]\n",
    "\n",
    "        for i in range(np.array(cut_label).shape[0]):\n",
    "            for j in range(np.array(new_move_img).shape[0]):\n",
    "                for x in range(np.array(new_move_img).shape[1]):\n",
    "                    for y in range(np.array(cut_feature).shape[2]):\n",
    "                        if j <= i:\n",
    "                            new_move_img[i][x][j*5+y][0] = cut_label[j][x][y][0]\n",
    "                        else:\n",
    "                            new_move_img[i][x][j*5+y][0] = cut_feature[j][x][y][0]\n",
    "\n",
    "        all_move_img.append(new_move_img)\n",
    "        \n",
    "    return all_move_img\n",
    "                 "
   ]
  },
  {
   "cell_type": "code",
   "execution_count": 229,
   "id": "6a66af93",
   "metadata": {},
   "outputs": [],
   "source": [
    "type_a = trans_to_move(type_a_feature,type_a_label)\n",
    "type_b = trans_to_move(type_b_feature,type_b_label)\n",
    "type_c = trans_to_move(type_c_feature,type_c_label)\n",
    "type_d = trans_to_move(type_d_feature,type_d_label)\n",
    "type_e = trans_to_move(type_e_feature,type_e_label)"
   ]
  },
  {
   "cell_type": "code",
   "execution_count": null,
   "id": "14299d12",
   "metadata": {},
   "outputs": [],
   "source": []
  },
  {
   "cell_type": "code",
   "execution_count": 254,
   "id": "0564ecff",
   "metadata": {},
   "outputs": [
    {
     "data": {
      "text/plain": [
       "<matplotlib.image.AxesImage at 0x1cb937c8978>"
      ]
     },
     "execution_count": 254,
     "metadata": {},
     "output_type": "execute_result"
    },
    {
     "data": {
      "image/png": "[encoded data removed]",
      "text/plain": [
       "<Figure size 432x288 with 1 Axes>"
      ]
     },
     "metadata": {
      "needs_background": "light"
     },
     "output_type": "display_data"
    }
   ],
   "source": [
    "plt.imshow(type_e[5][4],cmap='gray') "
   ]
  },
  {
   "cell_type": "code",
   "execution_count": 257,
   "id": "945c050c",
   "metadata": {},
   "outputs": [
    {
     "name": "stdout",
     "output_type": "stream",
     "text": [
      "(72, 12, 45, 60, 1)\n",
      "(59, 12, 45, 60, 1)\n",
      "(77, 12, 45, 60, 1)\n",
      "(61, 12, 45, 60, 1)\n",
      "(14, 12, 45, 60, 1)\n"
     ]
    }
   ],
   "source": [
    "print(np.array(type_a).shape)\n",
    "print(np.array(type_b).shape)\n",
    "print(np.array(type_c).shape)\n",
    "print(np.array(type_d).shape)\n",
    "print(np.array(type_e).shape)"
   ]
  },
  {
   "cell_type": "code",
   "execution_count": 267,
   "id": "10ce6e54",
   "metadata": {},
   "outputs": [
    {
     "name": "stdout",
     "output_type": "stream",
     "text": [
      "(57, 12, 45, 60, 1)\n",
      "(15, 12, 45, 60, 1)\n",
      "(47, 12, 45, 60, 1)\n",
      "(12, 12, 45, 60, 1)\n",
      "(61, 12, 45, 60, 1)\n",
      "(16, 12, 45, 60, 1)\n",
      "(48, 12, 45, 60, 1)\n",
      "(13, 12, 45, 60, 1)\n",
      "(11, 12, 45, 60, 1)\n",
      "(3, 12, 45, 60, 1)\n"
     ]
    }
   ],
   "source": [
    "train_type_a = type_a[:int(np.array(type_a).shape[0]*0.8)]\n",
    "val_type_a = type_a[int(np.array(type_a).shape[0]*0.8):]\n",
    "train_type_b = type_b[:int(np.array(type_b).shape[0]*0.8)]\n",
    "val_type_b = type_b[int(np.array(type_b).shape[0]*0.8):]\n",
    "train_type_c = type_c[:int(np.array(type_c).shape[0]*0.8)]\n",
    "val_type_c = type_c[int(np.array(type_c).shape[0]*0.8):]\n",
    "train_type_d = type_d[:int(np.array(type_d).shape[0]*0.8)]\n",
    "val_type_d = type_d[int(np.array(type_d).shape[0]*0.8):]\n",
    "train_type_e = type_e[:int(np.array(type_e).shape[0]*0.8)]\n",
    "val_type_e = type_e[int(np.array(type_e).shape[0]*0.8):]\n",
    "print(np.array(train_type_a).shape)\n",
    "print(np.array(val_type_a).shape)\n",
    "print(np.array(train_type_b).shape)\n",
    "print(np.array(val_type_b).shape)\n",
    "print(np.array(train_type_c).shape)\n",
    "print(np.array(val_type_c).shape)\n",
    "print(np.array(train_type_d).shape)\n",
    "print(np.array(val_type_d).shape)\n",
    "print(np.array(train_type_e).shape)\n",
    "print(np.array(val_type_e).shape)"
   ]
  },
  {
   "cell_type": "code",
   "execution_count": 271,
   "id": "a0965a4c",
   "metadata": {},
   "outputs": [
    {
     "data": {
      "text/plain": [
       "(59, 12, 45, 60, 1)"
      ]
     },
     "execution_count": 271,
     "metadata": {},
     "output_type": "execute_result"
    }
   ],
   "source": [
    "train_all = train_type_a + train_type_b + train_type_c +train_type_d +train_type_e\n",
    "val_all = val_type_a + val_type_b + val_type_c +val_type_d +val_type_e\n",
    "np.array(train_all).shape\n",
    "np.array(val_all).shape"
   ]
  },
  {
   "cell_type": "code",
   "execution_count": 274,
   "id": "b471c3e3",
   "metadata": {},
   "outputs": [],
   "source": [
    "train_all = np.array(train_all)\n",
    "val_all = np.array(val_all)"
   ]
  },
  {
   "cell_type": "code",
   "execution_count": 275,
   "id": "f001120f",
   "metadata": {},
   "outputs": [],
   "source": [
    "def created_shift_frame(data):\n",
    "    x = data[:, 0 : data.shape[1]-1, :, :]\n",
    "    y = data[:, 1 : data.shape[1], :, :]\n",
    "    return x,y"
   ]
  },
  {
   "cell_type": "code",
   "execution_count": 278,
   "id": "7fe3a710",
   "metadata": {},
   "outputs": [],
   "source": [
    "x_train, y_train = created_shift_frame(train_all)\n",
    "x_val, y_val = created_shift_frame(val_all)"
   ]
  },
  {
   "cell_type": "code",
   "execution_count": 279,
   "id": "5ad4999d",
   "metadata": {},
   "outputs": [
    {
     "data": {
      "text/plain": [
       "(59, 11, 45, 60, 1)"
      ]
     },
     "execution_count": 279,
     "metadata": {},
     "output_type": "execute_result"
    }
   ],
   "source": [
    "x_val.shape"
   ]
  },
  {
   "cell_type": "code",
   "execution_count": null,
   "id": "5affbf2d",
   "metadata": {},
   "outputs": [],
   "source": []
  },
  {
   "cell_type": "code",
   "execution_count": 320,
   "id": "cdd59c0b",
   "metadata": {},
   "outputs": [],
   "source": [
    "from keras.models import Sequential\n",
    "from keras.layers.convolutional import Conv3D\n",
    "from keras.layers.convolutional_recurrent import ConvLSTM2D\n",
    "from keras.layers import BatchNormalization\n",
    "#from tensorflow import keras\n",
    "import numpy as np\n",
    "import pylab as plt\n"
   ]
  },
  {
   "cell_type": "code",
   "execution_count": 321,
   "id": "f7397597",
   "metadata": {},
   "outputs": [
    {
     "name": "stdout",
     "output_type": "stream",
     "text": [
      "Model: \"sequential_5\"\n",
      "_________________________________________________________________\n",
      "Layer (type)                 Output Shape              Param #   \n",
      "=================================================================\n",
      "conv_lst_m2d_17 (ConvLSTM2D) (None, None, 45, 60, 40)  59200     \n",
      "_________________________________________________________________\n",
      "batch_normalization_17 (Batc (None, None, 45, 60, 40)  160       \n",
      "_________________________________________________________________\n",
      "conv_lst_m2d_18 (ConvLSTM2D) (None, None, 45, 60, 40)  115360    \n",
      "_________________________________________________________________\n",
      "batch_normalization_18 (Batc (None, None, 45, 60, 40)  160       \n",
      "_________________________________________________________________\n",
      "conv_lst_m2d_19 (ConvLSTM2D) (None, None, 45, 60, 40)  115360    \n",
      "_________________________________________________________________\n",
      "batch_normalization_19 (Batc (None, None, 45, 60, 40)  160       \n",
      "_________________________________________________________________\n",
      "conv_lst_m2d_20 (ConvLSTM2D) (None, None, 45, 60, 40)  115360    \n",
      "_________________________________________________________________\n",
      "batch_normalization_20 (Batc (None, None, 45, 60, 40)  160       \n",
      "_________________________________________________________________\n",
      "conv3d_5 (Conv3D)            (None, None, 45, 60, 1)   1081      \n",
      "=================================================================\n",
      "Total params: 407,001\n",
      "Trainable params: 406,681\n",
      "Non-trainable params: 320\n",
      "_________________________________________________________________\n"
     ]
    }
   ],
   "source": [
    "seq = Sequential()\n",
    "\n",
    "seq.add(ConvLSTM2D(filters=40, kernel_size=(3, 3),\n",
    "                   input_shape=(None, 45, 60, 1),\n",
    "                   padding='same', return_sequences=True))\n",
    "seq.add(BatchNormalization())\n",
    "\n",
    "seq.add(ConvLSTM2D(filters=40, kernel_size=(3, 3),\n",
    "                   padding='same', return_sequences=True))\n",
    "seq.add(BatchNormalization())\n",
    "\n",
    "seq.add(ConvLSTM2D(filters=40, kernel_size=(3, 3),\n",
    "                   padding='same', return_sequences=True))\n",
    "seq.add(BatchNormalization())\n",
    "\n",
    "seq.add(ConvLSTM2D(filters=40, kernel_size=(3, 3),\n",
    "                   padding='same', return_sequences=True))\n",
    "seq.add(BatchNormalization())\n",
    "\n",
    "seq.add(Conv3D(filters=1, kernel_size=(3, 3, 3),\n",
    "               activation='sigmoid',\n",
    "               padding='same', data_format='channels_last'))\n",
    "seq.compile(loss='mean_squared_error', optimizer='adam', metrics=['accuracy'])\n",
    "seq.summary()"
   ]
  },
  {
   "cell_type": "code",
   "execution_count": 324,
   "id": "5b06195d",
   "metadata": {},
   "outputs": [
    {
     "name": "stdout",
     "output_type": "stream",
     "text": [
      "Train on 224 samples, validate on 59 samples\n",
      "Epoch 1/5\n",
      "224/224 [==============================] - 301s 1s/step - loss: 0.0233 - accuracy: 0.9752 - val_loss: 0.5151 - val_accuracy: 0.0948\n",
      "Epoch 2/5\n",
      "224/224 [==============================] - 315s 1s/step - loss: 0.0016 - accuracy: 0.9986 - val_loss: 0.8322 - val_accuracy: 0.0866\n",
      "Epoch 3/5\n",
      "224/224 [==============================] - 318s 1s/step - loss: 7.9554e-04 - accuracy: 0.9992 - val_loss: 0.8144 - val_accuracy: 0.1550\n",
      "Epoch 4/5\n",
      "224/224 [==============================] - 315s 1s/step - loss: 5.4448e-04 - accuracy: 0.9994 - val_loss: 0.1754 - val_accuracy: 0.7022\n",
      "Epoch 5/5\n",
      "224/224 [==============================] - 316s 1s/step - loss: 4.3947e-04 - accuracy: 0.9995 - val_loss: 0.0038 - val_accuracy: 0.9966\n"
     ]
    },
    {
     "data": {
      "text/plain": [
       "<keras.callbacks.callbacks.History at 0x1cbdbb75128>"
      ]
     },
     "execution_count": 324,
     "metadata": {},
     "output_type": "execute_result"
    }
   ],
   "source": [
    "early_stopping = keras.callbacks.EarlyStopping(monitor=\"val_loss\", patience=10)\n",
    "reduce_lr = keras.callbacks.ReduceLROnPlateau(monitor=\"val_loss\", patience=5)\n",
    "seq.fit(x_train, y_train, batch_size=2, epochs=5, validation_data = (x_val,y_val),callbacks=[early_stopping,reduce_lr])"
   ]
  },
  {
   "cell_type": "code",
   "execution_count": 342,
   "id": "8ccb1584",
   "metadata": {},
   "outputs": [],
   "source": [
    "seq.save('conv_lstm_crack.h5')"
   ]
  },
  {
   "cell_type": "code",
   "execution_count": 585,
   "id": "7976c190",
   "metadata": {},
   "outputs": [
    {
     "name": "stdout",
     "output_type": "stream",
     "text": [
      "(20, 45, 60, 3)\n"
     ]
    }
   ],
   "source": [
    "x_test = []\n",
    "\n",
    "for i in range(1,21):\n",
    "    # create feature array\n",
    "    pic_feature = 'test'+ str(i) +'_init.png'\n",
    "    feature = cv2.imread('test/'+pic_feature)\n",
    "    feature = cv2.resize(feature,(60,45),interpolation = cv2.INTER_CUBIC)\n",
    "    x_test.append(feature)\n",
    "\n",
    "\n",
    "fashape = np.array(x_test).shape\n",
    "print(fashape)"
   ]
  },
  {
   "cell_type": "code",
   "execution_count": 556,
   "id": "be13c670",
   "metadata": {},
   "outputs": [
    {
     "name": "stdout",
     "output_type": "stream",
     "text": [
      "(1, 45, 60, 3)\n"
     ]
    }
   ],
   "source": [
    "x_test = []\n",
    "\n",
    "# create feature array\n",
    "pic_feature = 'test111.jpg'\n",
    "feature = cv2.imread(pic_feature)\n",
    "feature = cv2.resize(feature,(60,45),interpolation = cv2.INTER_CUBIC)\n",
    "x_test.append(feature)\n",
    "\n",
    "\n",
    "fashape = np.array(x_test).shape\n",
    "print(fashape)"
   ]
  },
  {
   "cell_type": "code",
   "execution_count": 557,
   "id": "95a63bbd",
   "metadata": {},
   "outputs": [
    {
     "name": "stdout",
     "output_type": "stream",
     "text": [
      "(1, 45, 60, 3)\n"
     ]
    }
   ],
   "source": [
    "test = []\n",
    "\n",
    "# create feature array\n",
    "pic_feature = 'test222.png'\n",
    "feature = cv2.imread(pic_feature)\n",
    "feature = cv2.resize(feature,(60,45),interpolation = cv2.INTER_CUBIC)\n",
    "test.append(feature)\n",
    "\n",
    "\n",
    "fashape = np.array(test).shape\n",
    "print(fashape)"
   ]
  },
  {
   "cell_type": "code",
   "execution_count": 586,
   "id": "592e35d9",
   "metadata": {},
   "outputs": [
    {
     "data": {
      "text/plain": [
       "(1, 45, 60, 1)"
      ]
     },
     "execution_count": 586,
     "metadata": {},
     "output_type": "execute_result"
    }
   ],
   "source": [
    "x_test = trans_to_gray(x_test)\n",
    "np.array(x_test).shape\n",
    "test = trans_to_gray(test)\n",
    "np.array(test).shape"
   ]
  },
  {
   "cell_type": "code",
   "execution_count": 559,
   "id": "1865f305",
   "metadata": {},
   "outputs": [
    {
     "data": {
      "text/plain": [
       "<matplotlib.image.AxesImage at 0x1cc00716668>"
      ]
     },
     "execution_count": 559,
     "metadata": {},
     "output_type": "execute_result"
    },
    {
     "data": {
      "image/png": "[encoded data removed]",
      "text/plain": [
       "<Figure size 432x288 with 1 Axes>"
      ]
     },
     "metadata": {
      "needs_background": "light"
     },
     "output_type": "display_data"
    }
   ],
   "source": [
    "plt.imshow(test[0], cmap='gray')"
   ]
  },
  {
   "cell_type": "code",
   "execution_count": null,
   "id": "c1d29a69",
   "metadata": {},
   "outputs": [],
   "source": []
  },
  {
   "cell_type": "code",
   "execution_count": 561,
   "id": "f2eb6610",
   "metadata": {},
   "outputs": [],
   "source": [
    "new = trans_to_move(test,x_test)"
   ]
  },
  {
   "cell_type": "code",
   "execution_count": 587,
   "id": "71a173cd",
   "metadata": {},
   "outputs": [
    {
     "data": {
      "text/plain": [
       "(20, 12, 45, 60, 1)"
      ]
     },
     "execution_count": 587,
     "metadata": {},
     "output_type": "execute_result"
    }
   ],
   "source": [
    "new_img = np.empty((20,12,45,60,1),np.uint8)\n",
    "for i in range(np.array(x_test).shape[0]):\n",
    "    new_img[i] = x_test[i]\n",
    "    \n",
    "np.array(new_img).shape"
   ]
  },
  {
   "cell_type": "code",
   "execution_count": null,
   "id": "e78364b3",
   "metadata": {},
   "outputs": [],
   "source": []
  },
  {
   "cell_type": "code",
   "execution_count": null,
   "id": "2da2df98",
   "metadata": {},
   "outputs": [],
   "source": []
  },
  {
   "cell_type": "code",
   "execution_count": 769,
   "id": "d4db703d",
   "metadata": {},
   "outputs": [],
   "source": [
    "predict = seq.predict(new_img)"
   ]
  },
  {
   "cell_type": "code",
   "execution_count": 770,
   "id": "e5d374ec",
   "metadata": {},
   "outputs": [
    {
     "data": {
      "text/plain": [
       "(20, 12, 45, 60, 1)"
      ]
     },
     "execution_count": 770,
     "metadata": {},
     "output_type": "execute_result"
    }
   ],
   "source": [
    "predict.shape"
   ]
  },
  {
   "cell_type": "code",
   "execution_count": 771,
   "id": "b66afd41",
   "metadata": {},
   "outputs": [],
   "source": [
    "predict_reshape = np.empty((20,45,60,1),np.uint8)\n",
    "predict_reshape[0] = predict[0][10]"
   ]
  },
  {
   "cell_type": "code",
   "execution_count": 778,
   "id": "1efb2481",
   "metadata": {},
   "outputs": [],
   "source": [
    "predict_reshape = np.empty((20,45,60,1),np.uint8)\n",
    "for i in range(np.array(predict_reshape).shape[0]):\n",
    "    for x in range(np.array(predict_reshape).shape[1]):\n",
    "        for y in range(np.array(predict_reshape).shape[2]):\n",
    "            if predict[i][10][x][y][0] >= 0.5:\n",
    "                predict_reshape[i][x][y][0] = 0\n",
    "            else:\n",
    "                predict_reshape[i][x][y][0] = 1"
   ]
  },
  {
   "cell_type": "code",
   "execution_count": 779,
   "id": "5fa98e2a",
   "metadata": {},
   "outputs": [
    {
     "data": {
      "text/plain": [
       "(20, 45, 60, 1)"
      ]
     },
     "execution_count": 779,
     "metadata": {},
     "output_type": "execute_result"
    }
   ],
   "source": [
    "np.array(predict_reshape).shape"
   ]
  },
  {
   "cell_type": "code",
   "execution_count": 781,
   "id": "a16dfd82",
   "metadata": {},
   "outputs": [
    {
     "data": {
      "text/plain": [
       "<matplotlib.image.AxesImage at 0x1cc4915f710>"
      ]
     },
     "execution_count": 781,
     "metadata": {},
     "output_type": "execute_result"
    },
    {
     "data": {
      "image/png": "[encoded data removed]",
      "text/plain": [
       "<Figure size 432x288 with 1 Axes>"
      ]
     },
     "metadata": {
      "needs_background": "light"
     },
     "output_type": "display_data"
    }
   ],
   "source": [
    "plt.imshow(predict_reshape[2], cmap='gray')"
   ]
  },
  {
   "cell_type": "code",
   "execution_count": 783,
   "id": "ec777140",
   "metadata": {},
   "outputs": [],
   "source": [
    "def trans_to_1array(img_array):\n",
    "    array = []\n",
    "    count = 0 \n",
    "    for i in range(0,np.array(img_array).shape[0]):\n",
    "        for x in range(0,np.array(img_array).shape[1]):\n",
    "             for y in range(0,np.array(img_array).shape[2]):\n",
    "                if img_array[i][x][y][0] == 0:\n",
    "                    array.append(0)\n",
    "                else:\n",
    "                    array.append(1)\n",
    "                count += 1\n",
    "    return array"
   ]
  },
  {
   "cell_type": "code",
   "execution_count": 785,
   "id": "8ea7b4a3",
   "metadata": {},
   "outputs": [],
   "source": [
    "predictnew = trans_to_1array(predict_reshape)"
   ]
  },
  {
   "cell_type": "code",
   "execution_count": 787,
   "id": "4689dbb0",
   "metadata": {},
   "outputs": [],
   "source": [
    "import csv\n",
    "\n",
    "count = 0\n",
    "# 開啟輸出的 CSV 檔案\n",
    "with open('output.csv', 'w', newline='') as csvfile:\n",
    "  # 建立 CSV 檔寫入器\n",
    "  writer = csv.writer(csvfile)\n",
    "\n",
    "  # 寫入一列資料\n",
    "  writer.writerow(['index', 'category'])\n",
    "\n",
    "  # 寫入另外幾列資料\n",
    "  \n",
    "  \n",
    "  for i in range(0,54000):\n",
    "    writer.writerow([i,predictnew[i]])"
   ]
  },
  {
   "cell_type": "code",
   "execution_count": null,
   "id": "38a6a287",
   "metadata": {},
   "outputs": [],
   "source": []
  },
  {
   "cell_type": "code",
   "execution_count": null,
   "id": "4b01ae2d",
   "metadata": {},
   "outputs": [],
   "source": []
  },
  {
   "cell_type": "code",
   "execution_count": null,
   "id": "626f5907",
   "metadata": {},
   "outputs": [],
   "source": []
  }
 ],
 "metadata": {
  "kernelspec": {
   "display_name": "Python (tensorflow-gpu)",
   "language": "python",
   "name": "tensorflow-gpu"
  },
  "language_info": {
   "codemirror_mode": {
    "name": "ipython",
    "version": 3
   },
   "file_extension": ".py",
   "mimetype": "text/x-python",
   "name": "python",
   "nbconvert_exporter": "python",
   "pygments_lexer": "ipython3",
   "version": "3.6.13"
  }
 },
 "nbformat": 4,
 "nbformat_minor": 5
}
