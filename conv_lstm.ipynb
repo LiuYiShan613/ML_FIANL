{
 "cells": [
  {
   "cell_type": "code",
   "execution_count": 1,
   "id": "1850f484",
   "metadata": {},
   "outputs": [],
   "source": [
    "import os\n",
    "import cv2\n",
    "import numpy as np\n",
    "import matplotlib.pyplot as plt\n",
    "import math"
   ]
  },
  {
   "cell_type": "code",
   "execution_count": 2,
   "id": "d4806542",
   "metadata": {},
   "outputs": [],
   "source": [
    "#把圖片轉二值化\n",
    "def trans_to_gray(img):\n",
    "    img_new = np.empty((np.array(img).shape[0],np.array(img).shape[1],np.array(img).shape[2],1),np.uint8)\n",
    "\n",
    "    for i in range(0,np.array(img_new).shape[0]):\n",
    "        for x in range(0,np.array(img_new).shape[1]):\n",
    "            for y in range(0,np.array(img_new).shape[2]):\n",
    "                img_new[i][x][y][0] =  img[i][x][y][0]/255\n",
    "                    \n",
    "    return img_new"
   ]
  },
  {
   "cell_type": "markdown",
   "id": "0ac683d7",
   "metadata": {},
   "source": [
    "# 讀取Type_a圖片"
   ]
  },
  {
   "cell_type": "code",
   "execution_count": 3,
   "id": "e2b2eb81",
   "metadata": {},
   "outputs": [
    {
     "name": "stdout",
     "output_type": "stream",
     "text": [
      "(72, 45, 60, 3)\n",
      "(72, 45, 60, 3)\n"
     ]
    }
   ],
   "source": [
    "type_a_feature = []\n",
    "type_a_label = []\n",
    "\n",
    "for i in range(1,73):\n",
    "    # create feature array\n",
    "    pic_feature = 's'+ str(i) +'_init.png'\n",
    "    feature = cv2.imread('train/type_a/'+pic_feature)\n",
    "    feature = cv2.resize(feature,(60,45),interpolation = cv2.INTER_CUBIC)\n",
    "    type_a_feature.append(feature)\n",
    "    \n",
    "    # create label array\n",
    "    pic_label = 's'+ str(i) +'.png'\n",
    "    label = cv2.imread('train/type_a/'+pic_label)\n",
    "    label = cv2.resize(label,(60,45),interpolation = cv2.INTER_CUBIC)\n",
    "    type_a_label.append(label)\n",
    "\n",
    "\n",
    "fashape = np.array(type_a_feature).shape\n",
    "lashape = np.array(type_a_label).shape\n",
    "print(fashape)\n",
    "print(lashape)\n"
   ]
  },
  {
   "cell_type": "markdown",
   "id": "226399ae",
   "metadata": {},
   "source": [
    "# 讀取Type_b圖片"
   ]
  },
  {
   "cell_type": "code",
   "execution_count": 4,
   "id": "42b1616e",
   "metadata": {},
   "outputs": [
    {
     "name": "stdout",
     "output_type": "stream",
     "text": [
      "(59, 45, 60, 3)\n",
      "(59, 45, 60, 3)\n"
     ]
    }
   ],
   "source": [
    "type_b_feature = []\n",
    "type_b_label = []\n",
    "\n",
    "for i in range(1,60):\n",
    "    # create feature array\n",
    "    pic_feature = 's'+ str(i) +'_init.png'\n",
    "    feature = cv2.imread('train/type_b/'+pic_feature)\n",
    "    feature = cv2.resize(feature,(60,45),interpolation = cv2.INTER_CUBIC)\n",
    "    type_b_feature.append(feature)\n",
    "    \n",
    "    # create label array\n",
    "    pic_label = 's'+ str(i) +'.png'\n",
    "    label = cv2.imread('train/type_b/'+pic_label)\n",
    "    label = cv2.resize(label,(60,45),interpolation = cv2.INTER_CUBIC)\n",
    "    type_b_label.append(label)\n",
    "\n",
    "\n",
    "fashape = np.array(type_b_feature).shape\n",
    "lashape = np.array(type_b_label).shape\n",
    "print(fashape)\n",
    "print(lashape)"
   ]
  },
  {
   "cell_type": "markdown",
   "id": "429ecc84",
   "metadata": {},
   "source": [
    "# 讀取Type_c圖片"
   ]
  },
  {
   "cell_type": "code",
   "execution_count": 5,
   "id": "d78df9a5",
   "metadata": {},
   "outputs": [
    {
     "name": "stdout",
     "output_type": "stream",
     "text": [
      "(77, 45, 60, 3)\n",
      "(77, 45, 60, 3)\n"
     ]
    }
   ],
   "source": [
    "type_c_feature = []\n",
    "type_c_label = []\n",
    "\n",
    "for i in range(1,78):\n",
    "    # create feature array\n",
    "    pic_feature = 's'+ str(i) +'_init.png'\n",
    "    feature = cv2.imread('train/type_c/'+pic_feature)\n",
    "    feature = cv2.resize(feature,(60,45),interpolation = cv2.INTER_CUBIC)\n",
    "    type_c_feature.append(feature)\n",
    "    \n",
    "    # create label array\n",
    "    pic_label = 's'+ str(i) +'.png'\n",
    "    label = cv2.imread('train/type_c/'+pic_label)\n",
    "    label = cv2.resize(label,(60,45),interpolation = cv2.INTER_CUBIC)\n",
    "    type_c_label.append(label)\n",
    "\n",
    "\n",
    "fashape = np.array(type_c_feature).shape\n",
    "lashape = np.array(type_c_label).shape\n",
    "print(fashape)\n",
    "print(lashape)"
   ]
  },
  {
   "cell_type": "markdown",
   "id": "a194597a",
   "metadata": {},
   "source": [
    "# 讀取Type_d圖片"
   ]
  },
  {
   "cell_type": "code",
   "execution_count": 6,
   "id": "bc50b8ab",
   "metadata": {},
   "outputs": [
    {
     "name": "stdout",
     "output_type": "stream",
     "text": [
      "(61, 45, 60, 3)\n",
      "(61, 45, 60, 3)\n"
     ]
    }
   ],
   "source": [
    "type_d_feature = []\n",
    "type_d_label = []\n",
    "\n",
    "for i in range(1,62):\n",
    "    # create feature array\n",
    "    pic_feature = 's'+ str(i) +'_init.png'\n",
    "    feature = cv2.imread('train/type_d/'+pic_feature)\n",
    "    feature = cv2.resize(feature,(60,45),interpolation = cv2.INTER_CUBIC)\n",
    "    type_d_feature.append(feature)\n",
    "    \n",
    "    # create label array\n",
    "    pic_label = 's'+ str(i) +'.png'\n",
    "    label = cv2.imread('train/type_d/'+pic_label)\n",
    "    label = cv2.resize(label,(60,45),interpolation = cv2.INTER_CUBIC)\n",
    "    type_d_label.append(label)\n",
    "\n",
    "\n",
    "fashape = np.array(type_d_feature).shape\n",
    "lashape = np.array(type_d_label).shape\n",
    "print(fashape)\n",
    "print(lashape)"
   ]
  },
  {
   "cell_type": "markdown",
   "id": "b08ea122",
   "metadata": {},
   "source": [
    "# 讀取Type_e圖片"
   ]
  },
  {
   "cell_type": "code",
   "execution_count": 7,
   "id": "a4a304f8",
   "metadata": {},
   "outputs": [
    {
     "name": "stdout",
     "output_type": "stream",
     "text": [
      "(14, 45, 60, 3)\n",
      "(14, 45, 60, 3)\n"
     ]
    }
   ],
   "source": [
    "type_e_feature = []\n",
    "type_e_label = []\n",
    "\n",
    "for i in range(1,15):\n",
    "    # create feature array\n",
    "    pic_feature = 's'+ str(i) +'_init.png'\n",
    "    feature = cv2.imread('train/type_e/'+pic_feature)\n",
    "    feature = cv2.resize(feature,(60,45),interpolation = cv2.INTER_CUBIC)\n",
    "    type_e_feature.append(feature)\n",
    "    \n",
    "    # create label array\n",
    "    pic_label = 's'+ str(i) +'.png'\n",
    "    label = cv2.imread('train/type_e/'+pic_label)\n",
    "    label = cv2.resize(label,(60,45),interpolation = cv2.INTER_CUBIC)\n",
    "    type_e_label.append(label)\n",
    "\n",
    "\n",
    "fashape = np.array(type_e_feature).shape\n",
    "lashape = np.array(type_e_label).shape\n",
    "print(fashape)\n",
    "print(lashape)"
   ]
  },
  {
   "cell_type": "code",
   "execution_count": 8,
   "id": "a3875de8",
   "metadata": {},
   "outputs": [
    {
     "name": "stdout",
     "output_type": "stream",
     "text": [
      "(72, 45, 60, 1)\n",
      "(72, 45, 60, 1)\n",
      "(59, 45, 60, 1)\n",
      "(59, 45, 60, 1)\n",
      "(77, 45, 60, 1)\n",
      "(77, 45, 60, 1)\n",
      "(61, 45, 60, 1)\n",
      "(61, 45, 60, 1)\n",
      "(14, 45, 60, 1)\n",
      "(14, 45, 60, 1)\n"
     ]
    }
   ],
   "source": [
    "#將所有圖片二值化\n",
    "type_a_feature = trans_to_gray(type_a_feature)\n",
    "type_a_label = trans_to_gray(type_a_label)\n",
    "type_b_feature = trans_to_gray(type_b_feature)\n",
    "type_b_label = trans_to_gray(type_b_label)\n",
    "type_c_feature = trans_to_gray(type_c_feature)\n",
    "type_c_label = trans_to_gray(type_c_label)\n",
    "type_d_feature = trans_to_gray(type_d_feature)\n",
    "type_d_label = trans_to_gray(type_d_label)\n",
    "type_e_feature = trans_to_gray(type_e_feature)\n",
    "type_e_label = trans_to_gray(type_e_label)\n",
    "print(np.array(type_a_feature).shape)\n",
    "print(np.array(type_a_label).shape)\n",
    "print(np.array(type_b_feature).shape)\n",
    "print(np.array(type_b_label).shape)\n",
    "print(np.array(type_c_feature).shape)\n",
    "print(np.array(type_c_label).shape)\n",
    "print(np.array(type_d_feature).shape)\n",
    "print(np.array(type_d_label).shape)\n",
    "print(np.array(type_e_feature).shape)\n",
    "print(np.array(type_e_label).shape)"
   ]
  },
  {
   "cell_type": "code",
   "execution_count": 9,
   "id": "bdb59af8",
   "metadata": {},
   "outputs": [
    {
     "data": {
      "text/plain": [
       "<matplotlib.image.AxesImage at 0x2010d7a51d0>"
      ]
     },
     "execution_count": 9,
     "metadata": {},
     "output_type": "execute_result"
    },
    {
     "data": {
      "image/png": "[encoded data removed]",
      "text/plain": [
       "<Figure size 432x288 with 1 Axes>"
      ]
     },
     "metadata": {
      "needs_background": "light"
     },
     "output_type": "display_data"
    }
   ],
   "source": [
    "#將圖片印出\n",
    "plt.imshow(type_a_feature[0],cmap='gray')  "
   ]
  },
  {
   "cell_type": "code",
   "execution_count": 10,
   "id": "db3cd421",
   "metadata": {},
   "outputs": [],
   "source": [
    "#將一張特徵圖轉換成7張連續的圖的function\n",
    "def trans_to_feature_move(feature):\n",
    "    cut_label_init = np.empty((np.array(feature).shape[0] ,7,45,60,1),np.uint8)\n",
    "\n",
    "    for i in range(np.array(cut_label_init).shape[0]):\n",
    "        for j in range(np.array(cut_label_init).shape[1]):\n",
    "            for x in range(np.array(cut_label_init).shape[2]):\n",
    "                for y in range(np.array(cut_label_init).shape[3]):\n",
    "                    if x >=20 and x <= 23 and y >= 0+j and y <= 5:\n",
    "                        cut_label_init[i][j][x][y][0] = 1\n",
    "                    else:\n",
    "                        cut_label_init[i][j][x][y][0] = feature[i][x][y][0]\n",
    "        \n",
    "    return cut_label_init"
   ]
  },
  {
   "cell_type": "code",
   "execution_count": 11,
   "id": "b9dc52bc",
   "metadata": {},
   "outputs": [],
   "source": [
    "#將所有圖片轉換成trans_to_feature_move\n",
    "type_a_feature_move = trans_to_feature_move(type_a_feature)\n",
    "type_b_feature_move = trans_to_feature_move(type_b_feature)\n",
    "type_c_feature_move = trans_to_feature_move(type_c_feature)\n",
    "type_d_feature_move = trans_to_feature_move(type_d_feature)\n",
    "type_e_feature_move = trans_to_feature_move(type_e_feature)"
   ]
  },
  {
   "cell_type": "code",
   "execution_count": 12,
   "id": "116faff9",
   "metadata": {},
   "outputs": [
    {
     "data": {
      "text/plain": [
       "(72, 7, 45, 60, 1)"
      ]
     },
     "execution_count": 12,
     "metadata": {},
     "output_type": "execute_result"
    }
   ],
   "source": [
    "np.array(type_a_feature_move).shape"
   ]
  },
  {
   "cell_type": "code",
   "execution_count": 13,
   "id": "2023f2a8",
   "metadata": {},
   "outputs": [
    {
     "data": {
      "text/plain": [
       "<matplotlib.image.AxesImage at 0x2010ddaa128>"
      ]
     },
     "execution_count": 13,
     "metadata": {},
     "output_type": "execute_result"
    },
    {
     "data": {
      "image/png": "[encoded data removed]",
      "text/plain": [
       "<Figure size 432x288 with 1 Axes>"
      ]
     },
     "metadata": {
      "needs_background": "light"
     },
     "output_type": "display_data"
    }
   ],
   "source": [
    "plt.imshow(type_c_feature_move[5][6],cmap='gray')  "
   ]
  },
  {
   "cell_type": "code",
   "execution_count": 14,
   "id": "5fdcacc0",
   "metadata": {},
   "outputs": [],
   "source": [
    "#將一張特徵圖與一張標籤圖轉換成7張連續的圖的function\n",
    "def trans_to_move(feature,label):\n",
    "    all_move_img = []\n",
    "\n",
    "    for all_i in range(np.array(feature).shape[0]):\n",
    "        cut_feature_7 = np.empty((2,45,7,1),np.uint8)\n",
    "        cut_feature_8 = np.empty((5,45,8,1),np.uint8)\n",
    "        cut_label_7 = np.empty((2,45,7,1),np.uint8)\n",
    "        cut_label_8 = np.empty((5,45,8,1),np.uint8)\n",
    "        new_move_img = np.empty((7,45,60,1),np.uint8)\n",
    "\n",
    "        for x in range(np.array(cut_feature_7).shape[1]):\n",
    "            for y in range(np.array(cut_feature_7).shape[2]):\n",
    "                cut_feature_7[0][x][y][0] = feature[all_i][x][6+y][0]\n",
    "            for y in range(np.array(cut_feature_7).shape[2]):\n",
    "                cut_feature_7[1][x][y][0] = feature[all_i][x][53+y][0]\n",
    "\n",
    "        for i in range(np.array(cut_feature_8).shape[0]):\n",
    "            for x in range(np.array(cut_feature_8).shape[1]):\n",
    "                for y in range(np.array(cut_feature_8).shape[2]):\n",
    "                    cut_feature_8[i][x][y][0] = feature[all_i][x][13+y+i*8][0]\n",
    "\n",
    "        for x in range(np.array(cut_label_7).shape[1]):\n",
    "            for y in range(np.array(cut_label_7).shape[2]):\n",
    "                cut_label_7[0][x][y][0] = label[all_i][x][6+y][0]\n",
    "            for y in range(np.array(cut_label_7).shape[2]):\n",
    "                cut_label_7[1][x][y][0] = label[all_i][x][53+y][0]\n",
    "\n",
    "        for i in range(np.array(cut_label_8).shape[0]):\n",
    "            for x in range(np.array(cut_label_8).shape[1]):\n",
    "                for y in range(np.array(cut_label_8).shape[2]):\n",
    "                    cut_label_8[i][x][y][0] = label[all_i][x][13+y+i*8][0]\n",
    "\n",
    "        for i in range(np.array(new_move_img).shape[0]):\n",
    "            for x in range(np.array(new_move_img).shape[1]):\n",
    "                for y in range(6):\n",
    "                    new_move_img[i][x][y][0] = label[all_i][x][y][0]\n",
    "            for x in range(np.array(new_move_img).shape[1]):\n",
    "                for y in range(np.array(cut_label_7).shape[2]):\n",
    "                    new_move_img[i][x][6+y][0] = cut_label_7[0][x][y][0]\n",
    "\n",
    "            if i == 0:\n",
    "                for x in range(np.array(new_move_img).shape[1]):\n",
    "                    for y in range(13,53):\n",
    "                        new_move_img[i][x][y][0] = feature[all_i][x][y][0]\n",
    "                for x in range(np.array(new_move_img).shape[1]):\n",
    "                    for y in range(53,60):\n",
    "                        new_move_img[i][x][y][0] = feature[all_i][x][y][0]\n",
    "                \n",
    "            elif i >= 1 and i <= 6:\n",
    "                for j in range(np.array(cut_feature_8).shape[0]):\n",
    "                    for x in range(np.array(new_move_img).shape[1]):\n",
    "                        for y in range(np.array(cut_feature_8).shape[2]):\n",
    "                            if j < i:\n",
    "                                new_move_img[i][x][13+j*8+y][0] = cut_label_8[j][x][y][0]\n",
    "                            else:\n",
    "                                new_move_img[i][x][13+j*8+y][0] = cut_feature_8[j][x][y][0]\n",
    "                if i == 6:\n",
    "                    for x in range(np.array(new_move_img).shape[1]):\n",
    "                        for y in range(np.array(cut_feature_7).shape[2]):\n",
    "                            new_move_img[i][x][53+y][0] = cut_label_7[1][x][y][0]\n",
    "                else:\n",
    "                    for x in range(np.array(new_move_img).shape[1]):\n",
    "                        for y in range(53,60):\n",
    "                            new_move_img[i][x][y][0] = feature[all_i][x][y][0]\n",
    "\n",
    "        all_move_img.append(new_move_img)\n",
    "        \n",
    "    return all_move_img\n",
    "                 "
   ]
  },
  {
   "cell_type": "code",
   "execution_count": 15,
   "id": "96c7b3c1",
   "metadata": {},
   "outputs": [],
   "source": [
    "#將所有圖片轉換成trans_to_move\n",
    "type_a_label_move = trans_to_move(type_a_feature,type_a_label)\n",
    "type_b_label_move = trans_to_move(type_b_feature,type_b_label)\n",
    "type_c_label_move = trans_to_move(type_c_feature,type_c_label)\n",
    "type_d_label_move = trans_to_move(type_d_feature,type_d_label)\n",
    "type_e_label_move = trans_to_move(type_e_feature,type_e_label)"
   ]
  },
  {
   "cell_type": "code",
   "execution_count": 16,
   "id": "5a66e0b2",
   "metadata": {},
   "outputs": [
    {
     "data": {
      "text/plain": [
       "<matplotlib.image.AxesImage at 0x2010de44390>"
      ]
     },
     "execution_count": 16,
     "metadata": {},
     "output_type": "execute_result"
    },
    {
     "data": {
      "image/png": "[encoded data removed]",
      "text/plain": [
       "<Figure size 432x288 with 1 Axes>"
      ]
     },
     "metadata": {
      "needs_background": "light"
     },
     "output_type": "display_data"
    }
   ],
   "source": [
    "plt.imshow(type_e_label_move[0][6],cmap='gray') "
   ]
  },
  {
   "cell_type": "code",
   "execution_count": 17,
   "id": "1d6abe22",
   "metadata": {},
   "outputs": [
    {
     "name": "stdout",
     "output_type": "stream",
     "text": [
      "(72, 7, 45, 60, 1)\n",
      "(59, 7, 45, 60, 1)\n",
      "(77, 7, 45, 60, 1)\n",
      "(61, 7, 45, 60, 1)\n",
      "(14, 7, 45, 60, 1)\n",
      "(72, 7, 45, 60, 1)\n",
      "(59, 7, 45, 60, 1)\n",
      "(77, 7, 45, 60, 1)\n",
      "(61, 7, 45, 60, 1)\n",
      "(14, 7, 45, 60, 1)\n"
     ]
    }
   ],
   "source": [
    "print(np.array(type_a_feature_move).shape)\n",
    "print(np.array(type_b_feature_move).shape)\n",
    "print(np.array(type_c_feature_move).shape)\n",
    "print(np.array(type_d_feature_move).shape)\n",
    "print(np.array(type_e_feature_move).shape)\n",
    "print(np.array(type_a_label_move).shape)\n",
    "print(np.array(type_b_label_move).shape)\n",
    "print(np.array(type_c_label_move).shape)\n",
    "print(np.array(type_d_label_move).shape)\n",
    "print(np.array(type_e_label_move).shape)"
   ]
  },
  {
   "cell_type": "code",
   "execution_count": 18,
   "id": "3e3a39df",
   "metadata": {},
   "outputs": [
    {
     "name": "stdout",
     "output_type": "stream",
     "text": [
      "(57, 7, 45, 60, 1)\n",
      "(15, 7, 45, 60, 1)\n",
      "(57, 7, 45, 60, 1)\n",
      "(15, 7, 45, 60, 1)\n",
      "(47, 7, 45, 60, 1)\n",
      "(12, 7, 45, 60, 1)\n",
      "(47, 7, 45, 60, 1)\n",
      "(12, 7, 45, 60, 1)\n",
      "(61, 7, 45, 60, 1)\n",
      "(16, 7, 45, 60, 1)\n",
      "(61, 7, 45, 60, 1)\n",
      "(16, 7, 45, 60, 1)\n",
      "(48, 7, 45, 60, 1)\n",
      "(13, 7, 45, 60, 1)\n",
      "(48, 7, 45, 60, 1)\n",
      "(13, 7, 45, 60, 1)\n",
      "(11, 7, 45, 60, 1)\n",
      "(3, 7, 45, 60, 1)\n",
      "(11, 7, 45, 60, 1)\n",
      "(3, 7, 45, 60, 1)\n"
     ]
    }
   ],
   "source": [
    "x_train_type_a = type_a_feature_move[:int(np.array(type_a_feature_move).shape[0]*0.8)]\n",
    "x_val_type_a = type_a_feature_move[int(np.array(type_a_feature_move).shape[0]*0.8):]\n",
    "y_train_type_a = type_a_label_move[:int(np.array(type_a_label_move).shape[0]*0.8)]\n",
    "y_val_type_a = type_a_label_move[int(np.array(type_a_label_move).shape[0]*0.8):]\n",
    "\n",
    "x_train_type_b = type_b_feature_move[:int(np.array(type_b_feature_move).shape[0]*0.8)]\n",
    "x_val_type_b = type_b_feature_move[int(np.array(type_b_feature_move).shape[0]*0.8):]\n",
    "y_train_type_b = type_b_label_move[:int(np.array(type_b_label_move).shape[0]*0.8)]\n",
    "y_val_type_b = type_b_label_move[int(np.array(type_b_label_move).shape[0]*0.8):]\n",
    "\n",
    "x_train_type_c = type_c_feature_move[:int(np.array(type_c_feature_move).shape[0]*0.8)]\n",
    "x_val_type_c = type_c_feature_move[int(np.array(type_c_feature_move).shape[0]*0.8):]\n",
    "y_train_type_c = type_c_label_move[:int(np.array(type_c_label_move).shape[0]*0.8)]\n",
    "y_val_type_c = type_c_label_move[int(np.array(type_c_label_move).shape[0]*0.8):]\n",
    "\n",
    "x_train_type_d = type_d_feature_move[:int(np.array(type_d_feature_move).shape[0]*0.8)]\n",
    "x_val_type_d = type_d_feature_move[int(np.array(type_d_feature_move).shape[0]*0.8):]\n",
    "y_train_type_d = type_d_label_move[:int(np.array(type_d_label_move).shape[0]*0.8)]\n",
    "y_val_type_d = type_d_label_move[int(np.array(type_d_label_move).shape[0]*0.8):]\n",
    "\n",
    "x_train_type_e = type_e_feature_move[:int(np.array(type_e_feature_move).shape[0]*0.8)]\n",
    "x_val_type_e = type_e_feature_move[int(np.array(type_e_feature_move).shape[0]*0.8):]\n",
    "y_train_type_e = type_e_label_move[:int(np.array(type_e_label_move).shape[0]*0.8)]\n",
    "y_val_type_e = type_e_label_move[int(np.array(type_e_label_move).shape[0]*0.8):]\n",
    "print(np.array(x_train_type_a).shape)\n",
    "print(np.array(x_val_type_a).shape)\n",
    "print(np.array(y_train_type_a).shape)\n",
    "print(np.array(y_val_type_a).shape)\n",
    "\n",
    "print(np.array(x_train_type_b).shape)\n",
    "print(np.array(x_val_type_b).shape)\n",
    "print(np.array(y_train_type_b).shape)\n",
    "print(np.array(y_val_type_b).shape)\n",
    "\n",
    "print(np.array(x_train_type_c).shape)\n",
    "print(np.array(x_val_type_c).shape)\n",
    "print(np.array(y_train_type_c).shape)\n",
    "print(np.array(y_val_type_c).shape)\n",
    "\n",
    "print(np.array(x_train_type_d).shape)\n",
    "print(np.array(x_val_type_d).shape)\n",
    "print(np.array(y_train_type_d).shape)\n",
    "print(np.array(y_val_type_d).shape)\n",
    "\n",
    "print(np.array(x_train_type_e).shape)\n",
    "print(np.array(x_val_type_e).shape)\n",
    "print(np.array(y_train_type_e).shape)\n",
    "print(np.array(y_val_type_e).shape)"
   ]
  },
  {
   "cell_type": "code",
   "execution_count": 19,
   "id": "c58acd49",
   "metadata": {
    "scrolled": true
   },
   "outputs": [
    {
     "name": "stdout",
     "output_type": "stream",
     "text": [
      "(224, 7, 45, 60, 1)\n",
      "(224, 7, 45, 60, 1)\n",
      "(59, 7, 45, 60, 1)\n",
      "(59, 7, 45, 60, 1)\n"
     ]
    }
   ],
   "source": [
    "x_train_type_a = np.array(x_train_type_a) \n",
    "x_train_type_b = np.array(x_train_type_b) \n",
    "x_train_type_c = np.array(x_train_type_c) \n",
    "x_train_type_d = np.array(x_train_type_d) \n",
    "x_train_type_e = np.array(x_train_type_e) \n",
    "\n",
    "y_train_type_a = np.array(y_train_type_a) \n",
    "y_train_type_b = np.array(y_train_type_b) \n",
    "y_train_type_c = np.array(y_train_type_c) \n",
    "y_train_type_d = np.array(y_train_type_d) \n",
    "y_train_type_e = np.array(y_train_type_e)\n",
    "\n",
    "x_val_type_a = np.array(x_val_type_a) \n",
    "x_val_type_b = np.array(x_val_type_b) \n",
    "x_val_type_c = np.array(x_val_type_c) \n",
    "x_val_type_d = np.array(x_val_type_d) \n",
    "x_val_type_e = np.array(x_val_type_e)\n",
    "\n",
    "y_val_type_a = np.array(y_val_type_a) \n",
    "y_val_type_b = np.array(y_val_type_b) \n",
    "y_val_type_c = np.array(y_val_type_c) \n",
    "y_val_type_d = np.array(y_val_type_d) \n",
    "y_val_type_e = np.array(y_val_type_e)\n",
    "\n",
    "all_x_train = np.concatenate((x_train_type_a, x_train_type_b, x_train_type_c, x_train_type_d, x_train_type_e), axis=0)\n",
    "all_y_train = np.concatenate((y_train_type_a, y_train_type_b, y_train_type_c, y_train_type_d, y_train_type_e), axis=0)\n",
    "\n",
    "all_x_val = np.concatenate((x_val_type_a, x_val_type_b, x_val_type_c, x_val_type_d, x_val_type_e), axis=0)\n",
    "all_y_val = np.concatenate((y_val_type_a, y_val_type_b, y_val_type_c, y_val_type_d, y_val_type_e), axis=0)\n",
    "print(all_x_train.shape)\n",
    "print(all_y_train.shape)\n",
    "print(all_x_val.shape)\n",
    "print(all_y_val.shape)"
   ]
  },
  {
   "cell_type": "code",
   "execution_count": 20,
   "id": "a88e045f",
   "metadata": {},
   "outputs": [
    {
     "data": {
      "text/plain": [
       "<matplotlib.image.AxesImage at 0x2010fd89240>"
      ]
     },
     "execution_count": 20,
     "metadata": {},
     "output_type": "execute_result"
    },
    {
     "data": {
      "image/png": "[encoded data removed]",
      "text/plain": [
       "<Figure size 432x288 with 1 Axes>"
      ]
     },
     "metadata": {
      "needs_background": "light"
     },
     "output_type": "display_data"
    }
   ],
   "source": [
    "plt.imshow(all_x_train[0][1],cmap='gray') "
   ]
  },
  {
   "cell_type": "code",
   "execution_count": 21,
   "id": "42cbe1b5",
   "metadata": {},
   "outputs": [
    {
     "data": {
      "text/plain": [
       "<matplotlib.image.AxesImage at 0x2010fde4eb8>"
      ]
     },
     "execution_count": 21,
     "metadata": {},
     "output_type": "execute_result"
    },
    {
     "data": {
      "image/png": "[encoded data removed]",
      "text/plain": [
       "<Figure size 432x288 with 1 Axes>"
      ]
     },
     "metadata": {
      "needs_background": "light"
     },
     "output_type": "display_data"
    }
   ],
   "source": [
    "plt.imshow(all_y_train[0][1],cmap='gray')"
   ]
  },
  {
   "cell_type": "code",
   "execution_count": 22,
   "id": "0a1e6e11",
   "metadata": {},
   "outputs": [
    {
     "name": "stderr",
     "output_type": "stream",
     "text": [
      "Using TensorFlow backend.\n"
     ]
    }
   ],
   "source": [
    "from keras.layers import Dense, Flatten\n",
    "from keras.models import Sequential\n",
    "from keras.layers.convolutional import Conv3D\n",
    "from keras.layers.convolutional_recurrent import ConvLSTM2D\n",
    "from keras.layers import BatchNormalization\n",
    "from tensorflow import keras\n",
    "import numpy as np\n",
    "import pylab as plt\n"
   ]
  },
  {
   "cell_type": "code",
   "execution_count": 23,
   "id": "1c17b684",
   "metadata": {},
   "outputs": [
    {
     "name": "stdout",
     "output_type": "stream",
     "text": [
      "Model: \"sequential_1\"\n",
      "_________________________________________________________________\n",
      "Layer (type)                 Output Shape              Param #   \n",
      "=================================================================\n",
      "conv_lst_m2d_1 (ConvLSTM2D)  (None, None, 45, 60, 40)  59200     \n",
      "_________________________________________________________________\n",
      "batch_normalization_1 (Batch (None, None, 45, 60, 40)  160       \n",
      "_________________________________________________________________\n",
      "conv_lst_m2d_2 (ConvLSTM2D)  (None, None, 45, 60, 40)  115360    \n",
      "_________________________________________________________________\n",
      "batch_normalization_2 (Batch (None, None, 45, 60, 40)  160       \n",
      "_________________________________________________________________\n",
      "conv_lst_m2d_3 (ConvLSTM2D)  (None, None, 45, 60, 40)  115360    \n",
      "_________________________________________________________________\n",
      "batch_normalization_3 (Batch (None, None, 45, 60, 40)  160       \n",
      "_________________________________________________________________\n",
      "conv_lst_m2d_4 (ConvLSTM2D)  (None, None, 45, 60, 40)  115360    \n",
      "_________________________________________________________________\n",
      "batch_normalization_4 (Batch (None, None, 45, 60, 40)  160       \n",
      "_________________________________________________________________\n",
      "conv3d_1 (Conv3D)            (None, None, 45, 60, 1)   1081      \n",
      "=================================================================\n",
      "Total params: 407,001\n",
      "Trainable params: 406,681\n",
      "Non-trainable params: 320\n",
      "_________________________________________________________________\n"
     ]
    }
   ],
   "source": [
    "seq = Sequential()\n",
    "\n",
    "seq.add(ConvLSTM2D(filters=40, kernel_size=(3, 3),\n",
    "                   input_shape=(None, 45, 60, 1),\n",
    "                   padding='same', return_sequences=True))\n",
    "seq.add(BatchNormalization())\n",
    "\n",
    "seq.add(ConvLSTM2D(filters=40, kernel_size=(3, 3),\n",
    "                   padding='same', return_sequences=True))\n",
    "seq.add(BatchNormalization())\n",
    "\n",
    "seq.add(ConvLSTM2D(filters=40, kernel_size=(3, 3),\n",
    "                   padding='same', return_sequences=True))\n",
    "seq.add(BatchNormalization())\n",
    "\n",
    "seq.add(ConvLSTM2D(filters=40, kernel_size=(3, 3),\n",
    "                   padding='same', return_sequences=True))\n",
    "seq.add(BatchNormalization())\n",
    "\n",
    "seq.add(Conv3D(filters=1, kernel_size=(3, 3, 3),\n",
    "               activation='sigmoid',\n",
    "               padding='same', data_format='channels_last'))\n",
    "#seq.add(Dense(2700))\n",
    "seq.compile(loss='mean_squared_error', optimizer='adam', metrics=['accuracy'])\n",
    "seq.summary()"
   ]
  },
  {
   "cell_type": "code",
   "execution_count": 24,
   "id": "90eb6468",
   "metadata": {},
   "outputs": [
    {
     "name": "stdout",
     "output_type": "stream",
     "text": [
      "Train on 224 samples, validate on 59 samples\n",
      "Epoch 1/30\n",
      "224/224 [==============================] - 221s 988ms/step - loss: 0.0390 - accuracy: 0.9575 - val_loss: 0.4970 - val_accuracy: 0.0900\n",
      "Epoch 2/30\n",
      "224/224 [==============================] - 199s 887ms/step - loss: 0.0258 - accuracy: 0.9726 - val_loss: 0.5077 - val_accuracy: 0.1096\n",
      "Epoch 3/30\n",
      "224/224 [==============================] - 127s 565ms/step - loss: 0.0251 - accuracy: 0.9732 - val_loss: 0.0833 - val_accuracy: 0.9575\n",
      "Epoch 4/30\n",
      "224/224 [==============================] - 127s 565ms/step - loss: 0.0247 - accuracy: 0.9735 - val_loss: 0.0422 - val_accuracy: 0.9702\n",
      "Epoch 5/30\n",
      "224/224 [==============================] - 126s 563ms/step - loss: 0.0244 - accuracy: 0.9737 - val_loss: 0.0255 - val_accuracy: 0.9736\n",
      "Epoch 6/30\n",
      "224/224 [==============================] - 126s 562ms/step - loss: 0.0242 - accuracy: 0.9738 - val_loss: 0.0237 - val_accuracy: 0.9743\n",
      "Epoch 7/30\n",
      "224/224 [==============================] - 126s 561ms/step - loss: 0.0242 - accuracy: 0.9738 - val_loss: 0.0286 - val_accuracy: 0.9745\n",
      "Epoch 8/30\n",
      "224/224 [==============================] - 126s 563ms/step - loss: 0.0241 - accuracy: 0.9739 - val_loss: 0.0286 - val_accuracy: 0.9743\n",
      "Epoch 9/30\n",
      "224/224 [==============================] - 130s 578ms/step - loss: 0.0240 - accuracy: 0.9739 - val_loss: 0.0235 - val_accuracy: 0.9744\n",
      "Epoch 10/30\n",
      "224/224 [==============================] - 143s 638ms/step - loss: 0.0239 - accuracy: 0.9740 - val_loss: 0.0235 - val_accuracy: 0.9745\n",
      "Epoch 11/30\n",
      "224/224 [==============================] - 143s 637ms/step - loss: 0.0238 - accuracy: 0.9740 - val_loss: 0.0238 - val_accuracy: 0.9746\n",
      "Epoch 12/30\n",
      "224/224 [==============================] - 126s 563ms/step - loss: 0.0237 - accuracy: 0.9740 - val_loss: 0.0248 - val_accuracy: 0.9746\n",
      "Epoch 13/30\n",
      "224/224 [==============================] - 126s 563ms/step - loss: 0.0237 - accuracy: 0.9740 - val_loss: 0.0234 - val_accuracy: 0.9746\n",
      "Epoch 14/30\n",
      "224/224 [==============================] - 126s 563ms/step - loss: 0.0236 - accuracy: 0.9740 - val_loss: 0.0252 - val_accuracy: 0.9742\n",
      "Epoch 15/30\n",
      "224/224 [==============================] - 127s 568ms/step - loss: 0.0234 - accuracy: 0.9742 - val_loss: 0.0228 - val_accuracy: 0.9748\n",
      "Epoch 16/30\n",
      "224/224 [==============================] - 127s 567ms/step - loss: 0.0233 - accuracy: 0.9743 - val_loss: 0.0229 - val_accuracy: 0.9747\n",
      "Epoch 17/30\n",
      "224/224 [==============================] - 126s 563ms/step - loss: 0.0232 - accuracy: 0.9743 - val_loss: 0.0230 - val_accuracy: 0.9747\n",
      "Epoch 18/30\n",
      "224/224 [==============================] - 126s 562ms/step - loss: 0.0232 - accuracy: 0.9743 - val_loss: 0.0229 - val_accuracy: 0.9748\n",
      "Epoch 19/30\n",
      "224/224 [==============================] - 126s 562ms/step - loss: 0.0232 - accuracy: 0.9743 - val_loss: 0.0230 - val_accuracy: 0.9747\n",
      "Epoch 20/30\n",
      "224/224 [==============================] - 128s 572ms/step - loss: 0.0231 - accuracy: 0.9744 - val_loss: 0.0230 - val_accuracy: 0.9747\n",
      "Epoch 21/30\n",
      "224/224 [==============================] - 126s 562ms/step - loss: 0.0231 - accuracy: 0.9744 - val_loss: 0.0228 - val_accuracy: 0.9747\n",
      "Epoch 22/30\n",
      "224/224 [==============================] - 126s 564ms/step - loss: 0.0231 - accuracy: 0.9744 - val_loss: 0.0228 - val_accuracy: 0.9748\n",
      "Epoch 23/30\n",
      "224/224 [==============================] - 126s 562ms/step - loss: 0.0231 - accuracy: 0.9744 - val_loss: 0.0228 - val_accuracy: 0.9747\n",
      "Epoch 24/30\n",
      "224/224 [==============================] - 126s 561ms/step - loss: 0.0231 - accuracy: 0.9744 - val_loss: 0.0228 - val_accuracy: 0.9747\n",
      "Epoch 25/30\n",
      "224/224 [==============================] - 126s 565ms/step - loss: 0.0230 - accuracy: 0.9745 - val_loss: 0.0228 - val_accuracy: 0.9747\n",
      "Epoch 26/30\n",
      "224/224 [==============================] - 126s 563ms/step - loss: 0.0230 - accuracy: 0.9744 - val_loss: 0.0228 - val_accuracy: 0.9747\n",
      "Epoch 27/30\n",
      "224/224 [==============================] - 126s 564ms/step - loss: 0.0230 - accuracy: 0.9745 - val_loss: 0.0228 - val_accuracy: 0.9747\n",
      "Epoch 28/30\n",
      "224/224 [==============================] - 126s 562ms/step - loss: 0.0230 - accuracy: 0.9745 - val_loss: 0.0228 - val_accuracy: 0.9747\n",
      "Epoch 29/30\n",
      "224/224 [==============================] - 126s 564ms/step - loss: 0.0230 - accuracy: 0.9745 - val_loss: 0.0228 - val_accuracy: 0.9747\n",
      "Epoch 30/30\n",
      "224/224 [==============================] - 126s 563ms/step - loss: 0.0230 - accuracy: 0.9745 - val_loss: 0.0228 - val_accuracy: 0.9747\n"
     ]
    },
    {
     "data": {
      "text/plain": [
       "<keras.callbacks.callbacks.History at 0x2010fdfcdd8>"
      ]
     },
     "execution_count": 24,
     "metadata": {},
     "output_type": "execute_result"
    }
   ],
   "source": [
    "early_stopping = keras.callbacks.EarlyStopping(monitor=\"val_loss\", patience=10)\n",
    "reduce_lr = keras.callbacks.ReduceLROnPlateau(monitor=\"val_loss\", patience=5)\n",
    "seq.fit(all_x_train, all_y_train, batch_size=2, epochs=30, validation_data = (all_x_val,all_y_val),callbacks=[early_stopping,reduce_lr])"
   ]
  },
  {
   "cell_type": "code",
   "execution_count": 39,
   "id": "08709d58",
   "metadata": {},
   "outputs": [],
   "source": [
    "seq.save('conv_lstm_crack_v2.h5')"
   ]
  },
  {
   "cell_type": "code",
   "execution_count": 64,
   "id": "f112b8b9",
   "metadata": {},
   "outputs": [
    {
     "name": "stdout",
     "output_type": "stream",
     "text": [
      "(20, 45, 60, 3)\n"
     ]
    }
   ],
   "source": [
    "x_test = []\n",
    "\n",
    "for i in range(1,21):\n",
    "    # create feature array\n",
    "    pic_feature = 'test'+ str(i) +'_init.png'\n",
    "    feature = cv2.imread('test/'+pic_feature)\n",
    "    feature = cv2.resize(feature,(60,45),interpolation = cv2.INTER_CUBIC)\n",
    "    x_test.append(feature)\n",
    "\n",
    "\n",
    "fashape = np.array(x_test).shape\n",
    "print(fashape)"
   ]
  },
  {
   "cell_type": "code",
   "execution_count": 65,
   "id": "989ce583",
   "metadata": {},
   "outputs": [],
   "source": [
    "x_test = trans_to_gray(x_test)"
   ]
  },
  {
   "cell_type": "code",
   "execution_count": 66,
   "id": "38da9bb2",
   "metadata": {},
   "outputs": [
    {
     "data": {
      "text/plain": [
       "<matplotlib.image.AxesImage at 0x200e88d3208>"
      ]
     },
     "execution_count": 66,
     "metadata": {},
     "output_type": "execute_result"
    },
    {
     "data": {
      "image/png": "[encoded data removed]",
      "text/plain": [
       "<Figure size 432x288 with 1 Axes>"
      ]
     },
     "metadata": {
      "needs_background": "light"
     },
     "output_type": "display_data"
    }
   ],
   "source": [
    "plt.imshow(x_test[1], cmap='gray')"
   ]
  },
  {
   "cell_type": "code",
   "execution_count": 67,
   "id": "2b0c803b",
   "metadata": {},
   "outputs": [],
   "source": [
    "x_test = trans_to_feature_move(x_test)"
   ]
  },
  {
   "cell_type": "code",
   "execution_count": 68,
   "id": "299cee8f",
   "metadata": {},
   "outputs": [],
   "source": [
    "predict = seq.predict(x_test)"
   ]
  },
  {
   "cell_type": "code",
   "execution_count": 69,
   "id": "ca5690c0",
   "metadata": {},
   "outputs": [
    {
     "data": {
      "text/plain": [
       "(20, 7, 45, 60, 1)"
      ]
     },
     "execution_count": 69,
     "metadata": {},
     "output_type": "execute_result"
    }
   ],
   "source": [
    "predict.shape"
   ]
  },
  {
   "cell_type": "code",
   "execution_count": 70,
   "id": "ce326b04",
   "metadata": {},
   "outputs": [
    {
     "data": {
      "text/plain": [
       "<matplotlib.image.AxesImage at 0x200e8933e80>"
      ]
     },
     "execution_count": 70,
     "metadata": {},
     "output_type": "execute_result"
    },
    {
     "data": {
      "image/png": "[encoded data removed]",
      "text/plain": [
       "<Figure size 432x288 with 1 Axes>"
      ]
     },
     "metadata": {
      "needs_background": "light"
     },
     "output_type": "display_data"
    }
   ],
   "source": [
    "plt.imshow(predict[0][6], cmap='gray')"
   ]
  },
  {
   "cell_type": "code",
   "execution_count": 71,
   "id": "950469c0",
   "metadata": {},
   "outputs": [],
   "source": [
    "predict_reshape = np.empty((20,45,60,1),np.uint8)\n",
    "predict_reshape[0] = predict[0][6]"
   ]
  },
  {
   "cell_type": "code",
   "execution_count": 126,
   "id": "cd20d019",
   "metadata": {},
   "outputs": [],
   "source": [
    "predict_reshape = np.empty((20,45,60,1),np.uint8)\n",
    "for i in range(np.array(predict_reshape).shape[0]):\n",
    "    for x in range(np.array(predict_reshape).shape[1]):\n",
    "        for y in range(np.array(predict_reshape).shape[2]):\n",
    "            if predict[i][6][x][y][0] >= 0.80:\n",
    "                predict_reshape[i][x][y][0] = 0\n",
    "            else:\n",
    "                predict_reshape[i][x][y][0] = 1"
   ]
  },
  {
   "cell_type": "code",
   "execution_count": 127,
   "id": "e6d3481f",
   "metadata": {},
   "outputs": [
    {
     "data": {
      "image/png": "[encoded data removed]",
      "text/plain": [
       "<Figure size 432x288 with 1 Axes>"
      ]
     },
     "metadata": {
      "needs_background": "light"
     },
     "output_type": "display_data"
    },
    {
     "data": {
      "image/png": "[encoded data removed]",
      "text/plain": [
       "<Figure size 432x288 with 1 Axes>"
      ]
     },
     "metadata": {
      "needs_background": "light"
     },
     "output_type": "display_data"
    },
    {
     "data": {
      "image/png": "[encoded data removed]",
      "text/plain": [
       "<Figure size 432x288 with 1 Axes>"
      ]
     },
     "metadata": {
      "needs_background": "light"
     },
     "output_type": "display_data"
    },
    {
     "data": {
      "image/png": "[encoded data removed]",
      "text/plain": [
       "<Figure size 432x288 with 1 Axes>"
      ]
     },
     "metadata": {
      "needs_background": "light"
     },
     "output_type": "display_data"
    },
    {
     "data": {
      "image/png": "[encoded data removed]",
      "text/plain": [
       "<Figure size 432x288 with 1 Axes>"
      ]
     },
     "metadata": {
      "needs_background": "light"
     },
     "output_type": "display_data"
    },
    {
     "data": {
      "image/png": "[encoded data removed]",
      "text/plain": [
       "<Figure size 432x288 with 1 Axes>"
      ]
     },
     "metadata": {
      "needs_background": "light"
     },
     "output_type": "display_data"
    },
    {
     "data": {
      "image/png": "[encoded data removed]",
      "text/plain": [
       "<Figure size 432x288 with 1 Axes>"
      ]
     },
     "metadata": {
      "needs_background": "light"
     },
     "output_type": "display_data"
    },
    {
     "data": {
      "image/png": "[encoded data removed]",
      "text/plain": [
       "<Figure size 432x288 with 1 Axes>"
      ]
     },
     "metadata": {
      "needs_background": "light"
     },
     "output_type": "display_data"
    },
    {
     "data": {
      "image/png": "[encoded data removed]",
      "text/plain": [
       "<Figure size 432x288 with 1 Axes>"
      ]
     },
     "metadata": {
      "needs_background": "light"
     },
     "output_type": "display_data"
    },
    {
     "data": {
      "image/png": "[encoded data removed]",
      "text/plain": [
       "<Figure size 432x288 with 1 Axes>"
      ]
     },
     "metadata": {
      "needs_background": "light"
     },
     "output_type": "display_data"
    },
    {
     "data": {
      "image/png": "[encoded data removed]",
      "text/plain": [
       "<Figure size 432x288 with 1 Axes>"
      ]
     },
     "metadata": {
      "needs_background": "light"
     },
     "output_type": "display_data"
    },
    {
     "data": {
      "image/png": "[encoded data removed]",
      "text/plain": [
       "<Figure size 432x288 with 1 Axes>"
      ]
     },
     "metadata": {
      "needs_background": "light"
     },
     "output_type": "display_data"
    },
    {
     "data": {
      "image/png": "[encoded data removed]",
      "text/plain": [
       "<Figure size 432x288 with 1 Axes>"
      ]
     },
     "metadata": {
      "needs_background": "light"
     },
     "output_type": "display_data"
    },
    {
     "data": {
      "image/png": "[encoded data removed]",
      "text/plain": [
       "<Figure size 432x288 with 1 Axes>"
      ]
     },
     "metadata": {
      "needs_background": "light"
     },
     "output_type": "display_data"
    },
    {
     "data": {
      "image/png": "[encoded data removed]",
      "text/plain": [
       "<Figure size 432x288 with 1 Axes>"
      ]
     },
     "metadata": {
      "needs_background": "light"
     },
     "output_type": "display_data"
    },
    {
     "data": {
      "image/png": "[encoded data removed]",
      "text/plain": [
       "<Figure size 432x288 with 1 Axes>"
      ]
     },
     "metadata": {
      "needs_background": "light"
     },
     "output_type": "display_data"
    },
    {
     "data": {
      "image/png": "[encoded data removed]",
      "text/plain": [
       "<Figure size 432x288 with 1 Axes>"
      ]
     },
     "metadata": {
      "needs_background": "light"
     },
     "output_type": "display_data"
    },
    {
     "data": {
      "image/png": "[encoded data removed]",
      "text/plain": [
       "<Figure size 432x288 with 1 Axes>"
      ]
     },
     "metadata": {
      "needs_background": "light"
     },
     "output_type": "display_data"
    },
    {
     "data": {
      "image/png": "[encoded data removed]",
      "text/plain": [
       "<Figure size 432x288 with 1 Axes>"
      ]
     },
     "metadata": {
      "needs_background": "light"
     },
     "output_type": "display_data"
    },
    {
     "data": {
      "image/png": "[encoded data removed]",
      "text/plain": [
       "<Figure size 432x288 with 1 Axes>"
      ]
     },
     "metadata": {
      "needs_background": "light"
     },
     "output_type": "display_data"
    }
   ],
   "source": [
    "for i in range(np.array(predict_reshape).shape[0]):\n",
    "    plt.imshow(predict_reshape[i], cmap='gray')\n",
    "    plt.show()"
   ]
  },
  {
   "cell_type": "code",
   "execution_count": 128,
   "id": "6f37acb9",
   "metadata": {},
   "outputs": [],
   "source": [
    "def trans_to_1array(img_array):\n",
    "    array = []\n",
    "    count = 0 \n",
    "    for i in range(0,np.array(img_array).shape[0]):\n",
    "        for x in range(0,np.array(img_array).shape[1]):\n",
    "             for y in range(0,np.array(img_array).shape[2]):\n",
    "                if img_array[i][x][y][0] == 0:\n",
    "                    array.append(0)\n",
    "                else:\n",
    "                    array.append(1)\n",
    "                count += 1\n",
    "    return array"
   ]
  },
  {
   "cell_type": "code",
   "execution_count": 129,
   "id": "3bd0e767",
   "metadata": {},
   "outputs": [],
   "source": [
    "predictnew = trans_to_1array(predict_reshape)"
   ]
  },
  {
   "cell_type": "code",
   "execution_count": 130,
   "id": "fa9fcd1a",
   "metadata": {},
   "outputs": [],
   "source": [
    "import csv\n",
    "\n",
    "count = 0\n",
    "# 開啟輸出的 CSV 檔案\n",
    "with open('output_v2.csv', 'w', newline='') as csvfile:\n",
    "  # 建立 CSV 檔寫入器\n",
    "  writer = csv.writer(csvfile)\n",
    "\n",
    "  # 寫入一列資料\n",
    "  writer.writerow(['index', 'category'])\n",
    "\n",
    "  # 寫入另外幾列資料\n",
    "  \n",
    "  \n",
    "  for i in range(0,54000):\n",
    "    writer.writerow([i,predictnew[i]])"
   ]
  }
 ],
 "metadata": {
  "kernelspec": {
   "display_name": "Python (tensorflow-gpu)",
   "language": "python",
   "name": "tensorflow-gpu"
  },
  "language_info": {
   "codemirror_mode": {
    "name": "ipython",
    "version": 3
   },
   "file_extension": ".py",
   "mimetype": "text/x-python",
   "name": "python",
   "nbconvert_exporter": "python",
   "pygments_lexer": "ipython3",
   "version": "3.6.13"
  }
 },
 "nbformat": 4,
 "nbformat_minor": 5
}
