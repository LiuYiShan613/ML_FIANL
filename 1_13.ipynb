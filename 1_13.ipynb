{
 "cells": [
  {
   "cell_type": "code",
   "execution_count": 1,
   "id": "2d0ce041",
   "metadata": {},
   "outputs": [],
   "source": [
    "import os\n",
    "import cv2\n",
    "import numpy as np\n",
    "import matplotlib.pyplot as plt"
   ]
  },
  {
   "cell_type": "code",
   "execution_count": 2,
   "id": "11a26349",
   "metadata": {},
   "outputs": [
    {
     "name": "stdout",
     "output_type": "stream",
     "text": [
      "(20, 240, 320)\n",
      "(20, 240, 320)\n"
     ]
    },
    {
     "name": "stderr",
     "output_type": "stream",
     "text": [
      "IOPub data rate exceeded.\n",
      "The notebook server will temporarily stop sending output\n",
      "to the client in order to avoid crashing it.\n",
      "To change this limit, set the config variable\n",
      "`--NotebookApp.iopub_data_rate_limit`.\n",
      "\n",
      "Current values:\n",
      "NotebookApp.iopub_data_rate_limit=1000000.0 (bytes/sec)\n",
      "NotebookApp.rate_limit_window=3.0 (secs)\n",
      "\n"
     ]
    }
   ],
   "source": [
    "np.set_printoptions(threshold=np.inf)\n",
    "test_init = []\n",
    "test = []\n",
    "\n",
    "for i in range(1,21):\n",
    "    # create feature array\n",
    "    feature = cv2.imread('test_init/'+str(i)+'.png',cv2.IMREAD_GRAYSCALE)\n",
    "    for x in range(feature.shape[0]):\n",
    "        for y in range(feature.shape[1]):\n",
    "            if(feature[x][y] >= 127):\n",
    "                feature[x][y] = 0\n",
    "            else:\n",
    "                feature[x][y] = 1\n",
    "    \n",
    "    test_init.append(feature)\n",
    "    \n",
    "    # create label array\n",
    "    label = cv2.imread('newtest/'+str(i)+'.png',cv2.IMREAD_GRAYSCALE)\n",
    "    for x in range(label.shape[0]):\n",
    "        for y in range(label.shape[1]):\n",
    "            if(label[x][y] >= 127):\n",
    "                label[x][y] = 0\n",
    "            else:\n",
    "                label[x][y] = 1\n",
    "    test.append(label)\n",
    "    \n",
    "\n",
    "\n",
    "a = np.array(test_init).shape\n",
    "b = np.array(test).shape\n",
    "print(a)\n",
    "print(b)\n",
    "print(np.array(test_init))\n",
    "#print(test_init)"
   ]
  },
  {
   "cell_type": "code",
   "execution_count": 90,
   "id": "16052616",
   "metadata": {},
   "outputs": [],
   "source": [
    "real_test_init = []\n",
    "\n",
    "for i in range(1,21):\n",
    "    # create feature array\n",
    "    feature = cv2.imread('test/test'+str(i)+'_init.png',cv2.IMREAD_GRAYSCALE)\n",
    "    for x in range(feature.shape[0]):\n",
    "        for y in range(feature.shape[1]):\n",
    "            if(feature[x][y] >= 127):\n",
    "                feature[x][y] = 0\n",
    "            else:\n",
    "                feature[x][y] = 1\n",
    "    \n",
    "    real_test_init.append(feature)"
   ]
  },
  {
   "cell_type": "code",
   "execution_count": 152,
   "id": "d349f0d5",
   "metadata": {},
   "outputs": [
    {
     "name": "stderr",
     "output_type": "stream",
     "text": [
      "C:\\Users\\liou7\\anaconda3\\envs\\maskrcnn\\lib\\site-packages\\ipykernel_launcher.py:5: RuntimeWarning: overflow encountered in ubyte_scalars\n",
      "  \"\"\"\n"
     ]
    },
    {
     "data": {
      "text/plain": [
       "(20, 240, 320)"
      ]
     },
     "execution_count": 152,
     "metadata": {},
     "output_type": "execute_result"
    }
   ],
   "source": [
    "crack = np.zeros((np.array(test).shape[0], np.array(test).shape[1], np.array(test).shape[2]), dtype=np.int)\n",
    "for i in range(np.array(test).shape[0]):\n",
    "    for x in range(np.array(test).shape[1]):\n",
    "        for y in range(np.array(test).shape[2]):\n",
    "            crack[i][x][y] = abs(test[i][x][y] - test_init[i][x][y])\n",
    "            if crack[i][x][y] == 255:\n",
    "                crack[i][x][y] = 1\n",
    "\n",
    "np.array(crack).shape"
   ]
  },
  {
   "cell_type": "code",
   "execution_count": 153,
   "id": "55495a34",
   "metadata": {},
   "outputs": [
    {
     "data": {
      "text/plain": [
       "<matplotlib.image.AxesImage at 0x1d710381748>"
      ]
     },
     "execution_count": 153,
     "metadata": {},
     "output_type": "execute_result"
    },
    {
     "data": {
      "image/png": "[encoded data removed]",
      "text/plain": [
       "<Figure size 432x288 with 1 Axes>"
      ]
     },
     "metadata": {
      "needs_background": "light"
     },
     "output_type": "display_data"
    }
   ],
   "source": [
    "crack.shape\n",
    "plt.imshow(crack[8], cmap='gray')"
   ]
  },
  {
   "cell_type": "code",
   "execution_count": 154,
   "id": "c0c4654b",
   "metadata": {},
   "outputs": [
    {
     "data": {
      "text/plain": [
       "(20, 240, 320)"
      ]
     },
     "execution_count": 154,
     "metadata": {},
     "output_type": "execute_result"
    }
   ],
   "source": [
    "final_img = np.zeros((np.array(test).shape[0], np.array(test).shape[1], np.array(test).shape[2]), dtype=np.int)\n",
    "for i in range(np.array(test).shape[0]):\n",
    "    for x in range(np.array(test).shape[1]):\n",
    "        for y in range(np.array(test).shape[2]):\n",
    "            final_img[i][x][y] = real_test_init[i][x][y] + crack[i][x][y]\n",
    "            if final_img[i][x][y] == 2:\n",
    "                final_img[i][x][y] = 1\n",
    "\n",
    "np.array(final_img).shape"
   ]
  },
  {
   "cell_type": "code",
   "execution_count": 155,
   "id": "2653ff4a",
   "metadata": {},
   "outputs": [
    {
     "data": {
      "text/plain": [
       "<matplotlib.image.AxesImage at 0x1d7103e2710>"
      ]
     },
     "execution_count": 155,
     "metadata": {},
     "output_type": "execute_result"
    },
    {
     "data": {
      "image/png": "[encoded data removed]",
      "text/plain": [
       "<Figure size 432x288 with 1 Axes>"
      ]
     },
     "metadata": {
      "needs_background": "light"
     },
     "output_type": "display_data"
    }
   ],
   "source": [
    "plt.imshow(final_img[19], cmap='gray')"
   ]
  },
  {
   "cell_type": "code",
   "execution_count": 183,
   "id": "b7f57ffc",
   "metadata": {},
   "outputs": [
    {
     "data": {
      "text/plain": [
       "<matplotlib.image.AxesImage at 0x1d7170b2e48>"
      ]
     },
     "execution_count": 183,
     "metadata": {},
     "output_type": "execute_result"
    },
    {
     "data": {
      "image/png": "[encoded data removed]",
      "text/plain": [
       "<Figure size 432x288 with 1 Axes>"
      ]
     },
     "metadata": {
      "needs_background": "light"
     },
     "output_type": "display_data"
    }
   ],
   "source": [
    "new_img = []\n",
    "new_img_re = np.zeros((20,45, 60), dtype=np.uint8)\n",
    "for i in range(20):\n",
    "    new_img = final_img[i]\n",
    "    new_img = new_img.astype('uint8')\n",
    "    new_img_re[i] = cv2.resize(new_img,(60,45),interpolation = cv2.INTER_CUBIC)\n",
    "    \n",
    "np.array(new_img_re).shape   \n",
    "plt.imshow(new_img_re[19], cmap='gray')"
   ]
  },
  {
   "cell_type": "code",
   "execution_count": 157,
   "id": "1c26f73d",
   "metadata": {},
   "outputs": [],
   "source": [
    "def trans_to_1array(img_array):\n",
    "    array = []\n",
    "    count = 0\n",
    "    for i in range(0,np.array(img_array).shape[0]):\n",
    "        for x in range(0,np.array(img_array).shape[1]):\n",
    "             for y in range(0,np.array(img_array).shape[2]):\n",
    "                if img_array[i][x][y] == 0:\n",
    "                    array.append(0)\n",
    "                else:\n",
    "                    array.append(1)\n",
    "                count += 1\n",
    "    return array"
   ]
  },
  {
   "cell_type": "code",
   "execution_count": 158,
   "id": "1bd5d94b",
   "metadata": {},
   "outputs": [
    {
     "data": {
      "text/plain": [
       "(54000,)"
      ]
     },
     "execution_count": 158,
     "metadata": {},
     "output_type": "execute_result"
    }
   ],
   "source": [
    "final = trans_to_1array(new_img_re)\n",
    "np.array(final).shape"
   ]
  },
  {
   "cell_type": "code",
   "execution_count": 149,
   "id": "87bd06a2",
   "metadata": {},
   "outputs": [],
   "source": [
    "import csv\n",
    "\n",
    "count = 0\n",
    "# 開啟輸出的 CSV 檔案\n",
    "with open('output.csv', 'w', newline='') as csvfile:\n",
    "  # 建立 CSV 檔寫入器\n",
    "  writer = csv.writer(csvfile)\n",
    "\n",
    "  # 寫入一列資料\n",
    "  writer.writerow(['index', 'category'])\n",
    "\n",
    "  # 寫入另外幾列資料\n",
    "  \n",
    "  \n",
    "  for i in range(0,54000):\n",
    "    writer.writerow([i,final[i]])"
   ]
  },
  {
   "cell_type": "code",
   "execution_count": null,
   "id": "e42c45ad",
   "metadata": {},
   "outputs": [],
   "source": []
  }
 ],
 "metadata": {
  "kernelspec": {
   "display_name": "Python (tensorflow-gpu)",
   "language": "python",
   "name": "tensorflow-gpu"
  },
  "language_info": {
   "codemirror_mode": {
    "name": "ipython",
    "version": 3
   },
   "file_extension": ".py",
   "mimetype": "text/x-python",
   "name": "python",
   "nbconvert_exporter": "python",
   "pygments_lexer": "ipython3",
   "version": "3.6.13"
  }
 },
 "nbformat": 4,
 "nbformat_minor": 5
}
